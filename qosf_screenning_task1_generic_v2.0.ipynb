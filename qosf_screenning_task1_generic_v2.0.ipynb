{
 "cells": [
  {
   "cell_type": "code",
   "execution_count": 8,
   "id": "41bedfec-557c-4e59-9105-24b71362c10f",
   "metadata": {},
   "outputs": [
    {
     "name": "stderr",
     "output_type": "stream",
     "text": [
      "ibmqfactory.load_account:WARNING:2021-09-28 12:04:35,012: Credentials are already in use. The existing account in the session will be replaced.\n"
     ]
    }
   ],
   "source": [
    "import numpy as np\n",
    "\n",
    "# Importing standard Qiskit libraries\n",
    "from qiskit import QuantumCircuit, transpile, Aer, IBMQ, assemble \n",
    "from qiskit.tools.jupyter import *\n",
    "from qiskit.visualization import *\n",
    "#from ibm_quantum_widgets import *\n",
    "from qiskit.providers.aer import QasmSimulator\n",
    "from qiskit.extensions import UnitaryGate\n",
    "import math\n",
    "# Loading your IBM Quantum account(s)\n",
    "provider = IBMQ.load_account()"
   ]
  },
  {
   "cell_type": "code",
   "execution_count": 9,
   "id": "9ca9586e",
   "metadata": {},
   "outputs": [],
   "source": [
    "def decimalToBinary(n):\n",
    "    return \"{0:b}\".format(int(n))\n",
    "    "
   ]
  },
  {
   "cell_type": "code",
   "execution_count": 10,
   "id": "f95cc887-2607-4672-bb14-03e73c785d18",
   "metadata": {},
   "outputs": [
    {
     "name": "stdout",
     "output_type": "stream",
     "text": [
      "['1', '101', '100', '1010', '1100', '1011', '10', '111']\n",
      "4\n",
      "3\n",
      "[1, 3]\n"
     ]
    }
   ],
   "source": [
    "input_list = [1, 5, 4, 10, 12, 11, 2, 7]\n",
    "m = int(math.ceil(math.log(max(input_list), 2))) # The length of the bitstring \n",
    "n_input = int(math.log(len(input_list), 2)) # This shall be the number of qubits representing the indices\n",
    "binary_list = [] # This list holding the binary conversion bitstrings with length m each\n",
    "for x in input_list:\n",
    "    binary_list.append(decimalToBinary(x))\n",
    "print(binary_list)\n",
    "n = n_input\n",
    "qc = QuantumCircuit(n)\n",
    "winning_indices = []\n",
    "print(m)\n",
    "print(n)\n",
    "## Design of the looked for numbers based on the bits string size m\n",
    "if m == 6:\n",
    "    winning_indices.append(input_list.index(21))\n",
    "    winning_indices.append(input_list.index(42))\n",
    "if m == 5:\n",
    "    winning_indices.append(input_list.index(10))\n",
    "    winning_indices.append(input_list.index(21))\n",
    "if m == 4:\n",
    "    winning_indices.append(input_list.index(5))\n",
    "    winning_indices.append(input_list.index(10))\n",
    "if m == 3:\n",
    "    winning_indices.append(input_list.index(2))\n",
    "    winning_indices.append(input_list.index(5))\n",
    "if m == 2:\n",
    "    winning_indices.append(input_list.index(1))\n",
    "    winning_indices.append(input_list.index(2))\n",
    "if m < 2:\n",
    "    print(\"Please enter a value >= 1\")\n",
    "\n",
    "print(winning_indices)\n",
    "## DEsign of the Z Operator based on the length of the input list (2 ^ n)\n",
    "if n == 2:\n",
    "    z_operator_matrix = np.asmatrix(np.eye(4), dtype=int)\n",
    "    z_operator_matrix[1, 1] = -1\n",
    "    z_operator_matrix[2, 2] = -1\n",
    "if n == 3:\n",
    "    z_operator_matrix = np.asmatrix(np.eye(8), dtype=int)\n",
    "    z_operator_matrix[2, 2] = -1\n",
    "    z_operator_matrix[5, 5] = -1\n",
    "if n == 4:\n",
    "    z_operator_matrix = np.asmatrix(np.eye(16), dtype=int)\n",
    "    z_operator_matrix[5, 5] = -1\n",
    "    z_operator_matrix[10, 10] = -1\n",
    "if n == 5:\n",
    "    z_operator_matrix = np.asmatrix(np.eye(32), dtype=int)\n",
    "    z_operator_matrix[21, 21] = -1\n",
    "    z_operator_matrix[10, 10] = -1\n",
    "\n",
    "oracle_z = UnitaryGate(z_operator_matrix, \"U$_\\omega$\")\n",
    "\n",
    "qc.unitary(oracle_z,list(range(n)))\n",
    "oracle_ex3 = qc.to_gate()\n"
   ]
  },
  {
   "cell_type": "code",
   "execution_count": 11,
   "id": "8a1c5d7a-f542-456a-8b2c-1a6a8bcd431e",
   "metadata": {},
   "outputs": [],
   "source": [
    "def initialize_s(qc, qubits):\n",
    "    \"\"\"Apply a H-gate to 'qubits' in qc\"\"\"\n",
    "    for q in qubits:\n",
    "        qc.h(q)\n",
    "    return qc"
   ]
  },
  {
   "cell_type": "code",
   "execution_count": 12,
   "id": "1f89c8f9-59d9-4db3-8971-6c7f969a6fed",
   "metadata": {},
   "outputs": [],
   "source": [
    "def diffuser(nqubits):\n",
    "    qc = QuantumCircuit(nqubits)\n",
    "    # Apply transformation |s> -> |00..0> (H-gates)\n",
    "    for qubit in range(nqubits):\n",
    "        qc.h(qubit)\n",
    "    # Apply transformation |00..0> -> |11..1> (X-gates)\n",
    "    for qubit in range(nqubits):\n",
    "        qc.x(qubit)\n",
    "    # Do multi-controlled-Z gate\n",
    "    qc.h(nqubits-1)\n",
    "    qc.mct(list(range(nqubits-1)), nqubits-1)  # multi-controlled-toffoli\n",
    "    qc.h(nqubits-1)\n",
    "    # Apply transformation |11..1> -> |00..0>\n",
    "    for qubit in range(nqubits):\n",
    "        qc.x(qubit)\n",
    "    # Apply transformation |00..0> -> |s>\n",
    "    for qubit in range(nqubits):\n",
    "        qc.h(qubit)\n",
    "    # We will return the diffuser as a gate\n",
    "    U_s = qc.to_gate()\n",
    "    U_s.name = \"U$_s$\"\n",
    "    return U_s"
   ]
  },
  {
   "cell_type": "code",
   "execution_count": 13,
   "id": "ad0410f3-8716-4c09-9e38-57cb96fd3c65",
   "metadata": {},
   "outputs": [
    {
     "data": {
      "text/html": [
       "<pre style=\"word-wrap: normal;white-space: pre;background: #fff0;line-height: 1.1;font-family: &quot;Courier New&quot;,Courier,monospace\">        ┌───┐┌──────────────┐┌────────┐ ░ ┌─┐      \n",
       "   q_0: ┤ H ├┤0             ├┤0       ├─░─┤M├──────\n",
       "        ├───┤│              ││        │ ░ └╥┘┌─┐   \n",
       "   q_1: ┤ H ├┤1 circuit-256 ├┤1 U$_s$ ├─░──╫─┤M├───\n",
       "        ├───┤│              ││        │ ░  ║ └╥┘┌─┐\n",
       "   q_2: ┤ H ├┤2             ├┤2       ├─░──╫──╫─┤M├\n",
       "        └───┘└──────────────┘└────────┘ ░  ║  ║ └╥┘\n",
       "meas: 3/═══════════════════════════════════╩══╩══╩═\n",
       "                                           0  1  2 </pre>"
      ],
      "text/plain": [
       "        ┌───┐┌──────────────┐┌────────┐ ░ ┌─┐      \n",
       "   q_0: ┤ H ├┤0             ├┤0       ├─░─┤M├──────\n",
       "        ├───┤│              ││        │ ░ └╥┘┌─┐   \n",
       "   q_1: ┤ H ├┤1 circuit-256 ├┤1 U$_s$ ├─░──╫─┤M├───\n",
       "        ├───┤│              ││        │ ░  ║ └╥┘┌─┐\n",
       "   q_2: ┤ H ├┤2             ├┤2       ├─░──╫──╫─┤M├\n",
       "        └───┘└──────────────┘└────────┘ ░  ║  ║ └╥┘\n",
       "meas: 3/═══════════════════════════════════╩══╩══╩═\n",
       "                                           0  1  2 "
      ]
     },
     "execution_count": 13,
     "metadata": {},
     "output_type": "execute_result"
    }
   ],
   "source": [
    "#n = 3\n",
    "grover_circuit = QuantumCircuit(n)\n",
    "grover_circuit = initialize_s(grover_circuit, list(range(n)))\n",
    "grover_circuit.append(oracle_ex3, list(range(n)))\n",
    "grover_circuit.append(diffuser(n), list(range(n)))\n",
    "grover_circuit.measure_all()\n",
    "grover_circuit.draw()"
   ]
  },
  {
   "cell_type": "code",
   "execution_count": 14,
   "id": "2cb8481e-a737-4b83-9b67-8edb01106a3e",
   "metadata": {},
   "outputs": [
    {
     "data": {
      "image/png": "[encoded data removed]",
      "text/plain": [
       "<Figure size 504x360 with 1 Axes>"
      ]
     },
     "execution_count": 14,
     "metadata": {},
     "output_type": "execute_result"
    }
   ],
   "source": [
    "aer_sim = Aer.get_backend('aer_simulator')\n",
    "transpiled_grover_circuit = transpile(grover_circuit, aer_sim)\n",
    "qobj = assemble(transpiled_grover_circuit)\n",
    "results = aer_sim.run(qobj).result()\n",
    "counts = results.get_counts()\n",
    "plot_histogram(counts)"
   ]
  },
  {
   "cell_type": "code",
   "execution_count": null,
   "id": "0a101629-bb4e-425f-a3a6-0589c859c29e",
   "metadata": {},
   "outputs": [],
   "source": []
  },
  {
   "cell_type": "code",
   "execution_count": null,
   "id": "c5381019-4194-4610-8347-6aca8ee96ed3",
   "metadata": {},
   "outputs": [],
   "source": []
  },
  {
   "cell_type": "code",
   "execution_count": null,
   "id": "33e5a9fd-0bf6-46e4-9810-2842c8506eba",
   "metadata": {},
   "outputs": [],
   "source": []
  }
 ],
 "metadata": {
  "kernelspec": {
   "display_name": "Python 3",
   "language": "python",
   "name": "python3"
  },
  "language_info": {
   "codemirror_mode": {
    "name": "ipython",
    "version": 3
   },
   "file_extension": ".py",
   "mimetype": "text/x-python",
   "name": "python",
   "nbconvert_exporter": "python",
   "pygments_lexer": "ipython3",
   "version": "3.9.5"
  },
  "widgets": {
   "application/vnd.jupyter.widget-state+json": {
    "state": {
     "152297998861493da985809a7c84fc49": {
      "model_module": "@jupyter-widgets/base",
      "model_module_version": "1.2.0",
      "model_name": "LayoutModel",
      "state": {
       "width": "145px"
      }
     },
     "1b664352280d440ba48be3689d2cc482": {
      "model_module": "@jupyter-widgets/controls",
      "model_module_version": "1.5.0",
      "model_name": "ButtonModel",
      "state": {
       "button_style": "primary",
       "description": "Clear",
       "layout": "IPY_MODEL_29090cddf1764b1db44fb8fede168dec",
       "style": "IPY_MODEL_7a02b18b7ad940fda7df0ae8fdf2124a"
      }
     },
     "1b67ab9f4ebe4aecaf8f318eb8329f08": {
      "model_module": "@jupyter-widgets/base",
      "model_module_version": "1.2.0",
      "model_name": "LayoutModel",
      "state": {
       "grid_template_areas": "\n                                       \". . . . right \"\n                                        ",
       "grid_template_columns": "20% 20% 20% 20% 20%",
       "width": "100%"
      }
     },
     "22c576bbbcbf4466943a7080bb28823b": {
      "model_module": "@jupyter-widgets/base",
      "model_module_version": "1.2.0",
      "model_name": "LayoutModel",
      "state": {
       "width": "190px"
      }
     },
     "29090cddf1764b1db44fb8fede168dec": {
      "model_module": "@jupyter-widgets/base",
      "model_module_version": "1.2.0",
      "model_name": "LayoutModel",
      "state": {
       "grid_area": "right",
       "padding": "0px 0px 0px 0px",
       "width": "70px"
      }
     },
     "3d2a78cecf614c73b89f19ffb0f14e22": {
      "model_module": "@jupyter-widgets/base",
      "model_module_version": "1.2.0",
      "model_name": "LayoutModel",
      "state": {
       "margin": "0px 0px 0px 37px",
       "width": "600px"
      }
     },
     "4006dd23b92a4018b5662bf7890ed6eb": {
      "model_module": "@jupyter-widgets/controls",
      "model_module_version": "1.5.0",
      "model_name": "DescriptionStyleModel",
      "state": {
       "description_width": ""
      }
     },
     "51a1e31e5b0e40edaa8b519654a730a5": {
      "model_module": "@jupyter-widgets/controls",
      "model_module_version": "1.5.0",
      "model_name": "HBoxModel",
      "state": {
       "children": [
        "IPY_MODEL_89e7a725947442a79544fd35f9ae0d57",
        "IPY_MODEL_cf750855f94b406c8b9f4d898c5e1b4b",
        "IPY_MODEL_b8fe60aef14d452d82bd053f994e7f53",
        "IPY_MODEL_7139cb9014e44e9f972fe44a3ab3385d",
        "IPY_MODEL_e2d721d71c4744fb8f71e2955c070c6f"
       ],
       "layout": "IPY_MODEL_3d2a78cecf614c73b89f19ffb0f14e22"
      }
     },
     "574d88f5965044d8a926ec3c5cb9fcdf": {
      "model_module": "@jupyter-widgets/controls",
      "model_module_version": "1.5.0",
      "model_name": "GridBoxModel",
      "state": {
       "children": [
        "IPY_MODEL_1b664352280d440ba48be3689d2cc482"
       ],
       "layout": "IPY_MODEL_1b67ab9f4ebe4aecaf8f318eb8329f08"
      }
     },
     "647bd1328d434b768f1f9c1ef91a871f": {
      "model_module": "@jupyter-widgets/controls",
      "model_module_version": "1.5.0",
      "model_name": "HTMLModel",
      "state": {
       "layout": "IPY_MODEL_accbaa053e85470e800f07a451e448ef",
       "style": "IPY_MODEL_4006dd23b92a4018b5662bf7890ed6eb",
       "value": "<p style='font-family: IBM Plex Sans, Arial, Helvetica, sans-serif; font-size: 20px; font-weight: medium;'>Circuit Properties</p>"
      }
     },
     "7139cb9014e44e9f972fe44a3ab3385d": {
      "model_module": "@jupyter-widgets/controls",
      "model_module_version": "1.5.0",
      "model_name": "HTMLModel",
      "state": {
       "layout": "IPY_MODEL_78eda4e98b5549b89f409db5f9cc132f",
       "style": "IPY_MODEL_8e34e168a6e64654b12697dc890c9107",
       "value": "<h5>Queue</h5>"
      }
     },
     "78eda4e98b5549b89f409db5f9cc132f": {
      "model_module": "@jupyter-widgets/base",
      "model_module_version": "1.2.0",
      "model_name": "LayoutModel",
      "state": {
       "width": "70px"
      }
     },
     "7a02b18b7ad940fda7df0ae8fdf2124a": {
      "model_module": "@jupyter-widgets/controls",
      "model_module_version": "1.5.0",
      "model_name": "ButtonStyleModel",
      "state": {}
     },
     "89e7a725947442a79544fd35f9ae0d57": {
      "model_module": "@jupyter-widgets/controls",
      "model_module_version": "1.5.0",
      "model_name": "HTMLModel",
      "state": {
       "layout": "IPY_MODEL_22c576bbbcbf4466943a7080bb28823b",
       "style": "IPY_MODEL_e819939fee9d485eb21c546a084363d0",
       "value": "<h5>Job ID</h5>"
      }
     },
     "8e34e168a6e64654b12697dc890c9107": {
      "model_module": "@jupyter-widgets/controls",
      "model_module_version": "1.5.0",
      "model_name": "DescriptionStyleModel",
      "state": {
       "description_width": ""
      }
     },
     "927ec24dd982430a84e5d9645935643e": {
      "model_module": "@jupyter-widgets/base",
      "model_module_version": "1.2.0",
      "model_name": "LayoutModel",
      "state": {}
     },
     "a4974c0cab294023ae01f8dfc152d8bc": {
      "model_module": "@jupyter-widgets/controls",
      "model_module_version": "1.5.0",
      "model_name": "DescriptionStyleModel",
      "state": {
       "description_width": ""
      }
     },
     "a76f5c0d86b04a7991feb4662c19163e": {
      "model_module": "@jupyter-widgets/controls",
      "model_module_version": "1.5.0",
      "model_name": "DescriptionStyleModel",
      "state": {
       "description_width": ""
      }
     },
     "aa9cf12e03ec4736a49a6059ae8ab952": {
      "model_module": "@jupyter-widgets/controls",
      "model_module_version": "1.5.0",
      "model_name": "DescriptionStyleModel",
      "state": {
       "description_width": ""
      }
     },
     "accbaa053e85470e800f07a451e448ef": {
      "model_module": "@jupyter-widgets/base",
      "model_module_version": "1.2.0",
      "model_name": "LayoutModel",
      "state": {
       "margin": "0px 0px 10px 0px"
      }
     },
     "b8fe60aef14d452d82bd053f994e7f53": {
      "model_module": "@jupyter-widgets/controls",
      "model_module_version": "1.5.0",
      "model_name": "HTMLModel",
      "state": {
       "layout": "IPY_MODEL_f01a726164a443d1ab1e773276a95a46",
       "style": "IPY_MODEL_a76f5c0d86b04a7991feb4662c19163e",
       "value": "<h5>Status</h5>"
      }
     },
     "cf750855f94b406c8b9f4d898c5e1b4b": {
      "model_module": "@jupyter-widgets/controls",
      "model_module_version": "1.5.0",
      "model_name": "HTMLModel",
      "state": {
       "layout": "IPY_MODEL_152297998861493da985809a7c84fc49",
       "style": "IPY_MODEL_aa9cf12e03ec4736a49a6059ae8ab952",
       "value": "<h5>Backend</h5>"
      }
     },
     "e2d721d71c4744fb8f71e2955c070c6f": {
      "model_module": "@jupyter-widgets/controls",
      "model_module_version": "1.5.0",
      "model_name": "HTMLModel",
      "state": {
       "layout": "IPY_MODEL_927ec24dd982430a84e5d9645935643e",
       "style": "IPY_MODEL_a4974c0cab294023ae01f8dfc152d8bc",
       "value": "<h5>Message</h5>"
      }
     },
     "e819939fee9d485eb21c546a084363d0": {
      "model_module": "@jupyter-widgets/controls",
      "model_module_version": "1.5.0",
      "model_name": "DescriptionStyleModel",
      "state": {
       "description_width": ""
      }
     },
     "f01a726164a443d1ab1e773276a95a46": {
      "model_module": "@jupyter-widgets/base",
      "model_module_version": "1.2.0",
      "model_name": "LayoutModel",
      "state": {
       "width": "95px"
      }
     }
    },
    "version_major": 2,
    "version_minor": 0
   }
  }
 },
 "nbformat": 4,
 "nbformat_minor": 5
}
