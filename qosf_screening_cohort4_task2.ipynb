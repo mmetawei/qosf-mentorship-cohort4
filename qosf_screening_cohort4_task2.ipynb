{
 "cells": [
  {
   "cell_type": "code",
   "execution_count": 42,
   "id": "d7539a74",
   "metadata": {},
   "outputs": [],
   "source": [
    "# This cell is added by sphinx-gallery\n",
    "# It can be customized to whatever you like\n",
    "%matplotlib inline"
   ]
  },
  {
   "cell_type": "code",
   "execution_count": 43,
   "id": "e9a1485e",
   "metadata": {},
   "outputs": [
    {
     "name": "stdout",
     "output_type": "stream",
     "text": [
      "Random Input is: [1 0 0 0]\n",
      "tensor([1, 0, 1, 0])\n"
     ]
    }
   ],
   "source": [
    "import pennylane as qml\n",
    "import numpy as np\n",
    "import torch\n",
    "from torch.autograd import Variable\n",
    "#np.random.seed(42)\n",
    "\n",
    "# we generate a four-dimensional random vector \n",
    "v = np.random.choice([0, 1], size=4)\n",
    "print(\"Random Input is:\", v)\n",
    "\n",
    "# purity of the target state\n",
    "purity = 1 #Pure State\n",
    "\n",
    "# choose from 4 target output states: |1010>, |0101>, |0011>, and |1100> based on random v value:\n",
    "if v[0] == 0 and v[1] == 0:\n",
    "    bloch_v = Variable(\n",
    "    torch.tensor([0, 0, 1, 1]),\n",
    "    requires_grad=False\n",
    "    )\n",
    "    print(bloch_v)\n",
    "if v[0] == 0 and v[1] == 1:\n",
    "    bloch_v = Variable(\n",
    "    torch.tensor([0, 1, 0, 1]),\n",
    "    requires_grad=False\n",
    "    )\n",
    "    print(bloch_v)\n",
    "if v[0] == 1 and v[1] == 0:\n",
    "    bloch_v = Variable(\n",
    "    torch.tensor([1, 0, 1, 0]),\n",
    "    requires_grad=False\n",
    "    )\n",
    "    print(bloch_v)\n",
    "if v[0] == 1 and v[1] == 1:\n",
    "    bloch_v = Variable(\n",
    "    torch.tensor([1, 1, 0, 0]),\n",
    "    requires_grad=False\n",
    "    )\n",
    "    print(bloch_v)\n",
    "\n",
    "# array of Pauli matrices (will be useful later)\n",
    "Paulis = Variable(torch.zeros([4, 2, 2], dtype=torch.complex128), requires_grad=False)\n",
    "Paulis[0] = torch.tensor([[0, 1], [1, 0]])\n",
    "Paulis[1] = torch.tensor([[0, -1j], [1j, 0]])\n",
    "Paulis[2] = torch.tensor([[1, 0], [0, -1]])"
   ]
  },
  {
   "cell_type": "code",
   "execution_count": 44,
   "id": "111e7930",
   "metadata": {},
   "outputs": [],
   "source": [
    "# number of qubits in the circuit\n",
    "nr_qubits = 4\n",
    "# number of layers in the circuit\n",
    "nr_layers = 2\n",
    "\n",
    "# randomly initialize parameters from a normal distribution\n",
    "params = np.random.normal(0, np.pi, (nr_qubits, nr_layers, 4))\n",
    "params = Variable(torch.tensor(params), requires_grad=True)\n",
    "\n",
    "# a layer of the circuit ansatz\n",
    "def layer(params, j):\n",
    "    for i in range(nr_qubits):\n",
    "        qml.RX(params[i, j, 0], wires=i)\n",
    "        qml.RY(params[i, j, 1], wires=i)\n",
    "        qml.RZ(params[i, j, 2], wires=i)\n",
    "        qml.RX(params[i, j, 3], wires=i)\n",
    "\n",
    "    qml.CNOT(wires=[0, 1])\n",
    "    qml.CNOT(wires=[0, 2])\n",
    "    qml.CNOT(wires=[1, 2])\n",
    "    qml.CNOT(wires=[2, 3])"
   ]
  },
  {
   "cell_type": "code",
   "execution_count": 45,
   "id": "95652018",
   "metadata": {},
   "outputs": [],
   "source": [
    "dev = qml.device(\"default.qubit\", wires=4)"
   ]
  },
  {
   "cell_type": "code",
   "execution_count": 46,
   "id": "dd06d274",
   "metadata": {},
   "outputs": [],
   "source": [
    "@qml.qnode(dev, interface=\"torch\")\n",
    "def circuit(params, A):\n",
    "\n",
    "    # repeatedly apply each layer in the circuit\n",
    "    for j in range(nr_layers):\n",
    "        layer(params, j)\n",
    "\n",
    "    # returns the expectation of the input matrix A on the first qubit\n",
    "    return qml.expval(qml.Hermitian(A, wires=0))"
   ]
  },
  {
   "cell_type": "code",
   "execution_count": 47,
   "id": "4c772b31",
   "metadata": {},
   "outputs": [
    {
     "name": "stdout",
     "output_type": "stream",
     "text": [
      "Cost after 0 steps is 2.0946\n",
      "Cost after 10 steps is 0.7068\n",
      "Cost after 20 steps is 0.7334\n",
      "Cost after 30 steps is 0.6293\n",
      "Cost after 40 steps is 0.6464\n",
      "Cost after 50 steps is 0.6922\n",
      "Cost after 60 steps is 0.6232\n",
      "Cost after 70 steps is 0.6221\n",
      "Cost after 80 steps is 0.6641\n",
      "Cost after 90 steps is 0.6132\n",
      "Cost after 100 steps is 0.6225\n",
      "Cost after 110 steps is 0.6595\n",
      "Cost after 120 steps is 0.6110\n",
      "Cost after 130 steps is 0.6222\n",
      "Cost after 140 steps is 0.6561\n",
      "Cost after 150 steps is 0.6104\n",
      "Cost after 160 steps is 0.6210\n",
      "Cost after 170 steps is 0.6518\n",
      "Cost after 180 steps is 0.6097\n",
      "Cost after 190 steps is 0.6197\n",
      "Cost after 200 steps is 0.6469\n",
      "Target Bloch vector =  [1 0 1 0]\n",
      "Output Bloch vector =  [ 0.69808053 -0.03162511  0.71485442  0.        ]\n"
     ]
    }
   ],
   "source": [
    "# cost function\n",
    "def cost_fn(params):\n",
    "    cost = 0\n",
    "    for k in range(4):\n",
    "        cost += torch.abs(circuit(params, Paulis[k]) - bloch_v[k])\n",
    "\n",
    "    return cost\n",
    "\n",
    "\n",
    "# set up the optimizer\n",
    "opt = torch.optim.Adam([params], lr=0.1)\n",
    "\n",
    "# number of steps in the optimization routine\n",
    "steps = 200\n",
    "\n",
    "# the final stage of optimization isn't always the best, so we keep track of\n",
    "# the best parameters along the way\n",
    "best_cost = cost_fn(params)\n",
    "best_params = np.zeros((nr_qubits, nr_layers, 3))\n",
    "\n",
    "print(\"Cost after 0 steps is {:.4f}\".format(cost_fn(params)))\n",
    "\n",
    "# optimization begins\n",
    "for n in range(steps):\n",
    "    opt.zero_grad()\n",
    "    loss = cost_fn(params)\n",
    "    loss.backward()\n",
    "    opt.step()\n",
    "\n",
    "    # keeps track of best parameters\n",
    "    if loss < best_cost:\n",
    "        best_cost = loss\n",
    "        best_params = params\n",
    "\n",
    "    # Keep track of progress every 10 steps\n",
    "    if n % 10 == 9 or n == steps - 1:\n",
    "        print(\"Cost after {} steps is {:.4f}\".format(n + 1, loss))\n",
    "\n",
    "# calculate the Bloch vector of the output state\n",
    "output_bloch_v = np.zeros(4)\n",
    "for l in range(4):\n",
    "    output_bloch_v[l] = circuit(best_params, Paulis[l])\n",
    "\n",
    "# print results\n",
    "print(\"Target Bloch vector = \", bloch_v.numpy())\n",
    "print(\"Output Bloch vector = \", output_bloch_v)"
   ]
  },
  {
   "cell_type": "code",
   "execution_count": null,
   "id": "9a50a27e",
   "metadata": {},
   "outputs": [],
   "source": []
  },
  {
   "cell_type": "code",
   "execution_count": null,
   "id": "6c39559c",
   "metadata": {},
   "outputs": [],
   "source": []
  },
  {
   "cell_type": "code",
   "execution_count": null,
   "id": "b9391f49",
   "metadata": {},
   "outputs": [],
   "source": []
  }
 ],
 "metadata": {
  "kernelspec": {
   "display_name": "Python 3",
   "language": "python",
   "name": "python3"
  },
  "language_info": {
   "codemirror_mode": {
    "name": "ipython",
    "version": 3
   },
   "file_extension": ".py",
   "mimetype": "text/x-python",
   "name": "python",
   "nbconvert_exporter": "python",
   "pygments_lexer": "ipython3",
   "version": "3.9.5"
  }
 },
 "nbformat": 4,
 "nbformat_minor": 5
}
